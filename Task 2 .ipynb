{
 "cells": [
  {
   "cell_type": "code",
   "execution_count": 31,
   "metadata": {},
   "outputs": [],
   "source": [
    "myName = input(\"Hello! what is your favourite number between 1-100?\")\n"
   ]
  },
  {
   "cell_type": "code",
   "execution_count": 32,
   "metadata": {},
   "outputs": [
    {
     "output_type": "stream",
     "name": "stdout",
     "text": [
      "Haha! What a wonderful number. What do you call a man with a spade on his head? DOUG!\n"
     ]
    }
   ],
   "source": [
    "print(\"Haha! What a wonderful number. What do you call a man with a spade on his head? DOUG!\")"
   ]
  },
  {
   "cell_type": "code",
   "execution_count": 33,
   "metadata": {},
   "outputs": [],
   "source": [
    "myName1 = input(\"Why don't we go again? Pick another number\")"
   ]
  },
  {
   "cell_type": "code",
   "execution_count": 34,
   "metadata": {},
   "outputs": [
    {
     "output_type": "stream",
     "name": "stdout",
     "text": [
      "Very good! What did the cheese say to get the bear out of his cave?...Camembert!\n"
     ]
    }
   ],
   "source": [
    "print(\"Very good! What did the cheese say to get the bear out of his cave?...Camembert!\")"
   ]
  },
  {
   "cell_type": "code",
   "execution_count": 35,
   "metadata": {},
   "outputs": [],
   "source": [
    "myName2 = input(\"Let's do one more. Pick one final number.\")"
   ]
  },
  {
   "cell_type": "code",
   "execution_count": 36,
   "metadata": {},
   "outputs": [
    {
     "output_type": "stream",
     "name": "stdout",
     "text": [
      "The best joke till last. What's black and white and spins really fast? A penguib rolling down a hill!\n"
     ]
    }
   ],
   "source": [
    "print(\"The best joke till last. What's black and white and spins really fast? A penguib rolling down a hill!\")"
   ]
  }
 ],
 "metadata": {
  "kernelspec": {
   "name": "python3",
   "display_name": "Python 3.8.5 64-bit ('base': conda)",
   "metadata": {
    "interpreter": {
     "hash": "053081a06a8ad8a298645488d5ea08157c575c233c8e12ee07475eec2919d72d"
    }
   }
  },
  "language_info": {
   "codemirror_mode": {
    "name": "ipython",
    "version": 3
   },
   "file_extension": ".py",
   "mimetype": "text/x-python",
   "name": "python",
   "nbconvert_exporter": "python",
   "pygments_lexer": "ipython3",
   "version": "3.8.5-final"
  }
 },
 "nbformat": 4,
 "nbformat_minor": 4
}