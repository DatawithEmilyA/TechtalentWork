{
 "metadata": {
  "language_info": {
   "codemirror_mode": {
    "name": "ipython",
    "version": 3
   },
   "file_extension": ".py",
   "mimetype": "text/x-python",
   "name": "python",
   "nbconvert_exporter": "python",
   "pygments_lexer": "ipython3",
   "version": "3.8.5-final"
  },
  "orig_nbformat": 2,
  "kernelspec": {
   "name": "python3",
   "display_name": "Python 3",
   "language": "python"
  }
 },
 "nbformat": 4,
 "nbformat_minor": 2,
 "cells": [
  {
   "cell_type": "code",
   "execution_count": 27,
   "metadata": {},
   "outputs": [],
   "source": [
    "import random\n",
    "\n",
    "myName = input(\"Hello! What is your name?\")\n",
    "\n",
    "number= random.randint(1,10)\n"
   ]
  },
  {
   "cell_type": "code",
   "execution_count": 28,
   "metadata": {},
   "outputs": [
    {
     "output_type": "stream",
     "name": "stdout",
     "text": [
      "Well,Emily  I am thinking of a number between 1 and 10.\n"
     ]
    }
   ],
   "source": [
    "print(\"Well,\" +myName, \"I am thinking of a number between 1 and 10.\")\n",
    "guess = int(input(\"take a guess:\"))\n"
   ]
  },
  {
   "cell_type": "code",
   "execution_count": 29,
   "metadata": {},
   "outputs": [
    {
     "output_type": "stream",
     "name": "stdout",
     "text": [
      "Wrong, keep trying\n"
     ]
    }
   ],
   "source": [
    "if guess == number:\n",
    "    print(\"Good job!\", + myName, \"you guessed my number, you have defeated me!\")\n",
    "else:\n",
    "    print(\"Wrong, keep trying\")"
   ]
  }
 ]
}