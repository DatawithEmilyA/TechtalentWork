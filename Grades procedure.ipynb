{
 "metadata": {
  "language_info": {
   "codemirror_mode": {
    "name": "ipython",
    "version": 3
   },
   "file_extension": ".py",
   "mimetype": "text/x-python",
   "name": "python",
   "nbconvert_exporter": "python",
   "pygments_lexer": "ipython3",
   "version": "3.8.5-final"
  },
  "orig_nbformat": 2,
  "kernelspec": {
   "name": "python3",
   "display_name": "Python 3",
   "language": "python"
  }
 },
 "nbformat": 4,
 "nbformat_minor": 2,
 "cells": [
  {
   "cell_type": "code",
   "execution_count": 1,
   "metadata": {},
   "outputs": [],
   "source": [
    "# defining a function – returns a value. Whereas a procedure carries out action\n",
    "def mark_grade(mark):\n",
    " if mark > 90:\n",
    "   return \"A*\"\n",
    " elif mark > 80:\n",
    "   return \"A\"\n",
    " elif mark > 70:\n",
    "   return \"B\"\n",
    " elif mark > 60:\n",
    "   return \"C\"\n",
    " else:\n",
    "   return \"F\""
   ]
  },
  {
   "cell_type": "code",
   "execution_count": 2,
   "metadata": {},
   "outputs": [
    {
     "output_type": "stream",
     "name": "stdout",
     "text": [
      "What was your target grade?\n",
      "Your grade was F\n",
      "Your target grade was 44\n",
      "Your mark was higher than target, well done.\n"
     ]
    }
   ],
   "source": [
    "print(\"What was your target grade?\")\n",
    "target_grade = int(input())\n",
    "mark = input(\"Enter the student's mark: \")\n",
    "grade = mark_grade (int(mark))\n",
    "print(\"Your grade was \" + grade)\n",
    "print(\"Your target grade was \" + str(target_grade) )\n",
    "if target_grade < int(mark):\n",
    " print (\"Your mark was higher than target, well done.\")\n",
    "elif target_grade == int(mark):\n",
    " print (\"You achieved your target, well done.\")\n",
    "else:\n",
    " print (\"You did not achieve your target this time. Keep working!\")"
   ]
  }
 ]
}