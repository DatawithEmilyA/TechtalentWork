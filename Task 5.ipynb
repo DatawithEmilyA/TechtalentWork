{
 "metadata": {
  "language_info": {
   "codemirror_mode": {
    "name": "ipython",
    "version": 3
   },
   "file_extension": ".py",
   "mimetype": "text/x-python",
   "name": "python",
   "nbconvert_exporter": "python",
   "pygments_lexer": "ipython3",
   "version": "3.8.5-final"
  },
  "orig_nbformat": 2,
  "kernelspec": {
   "name": "python3",
   "display_name": "Python 3",
   "language": "python"
  }
 },
 "nbformat": 4,
 "nbformat_minor": 2,
 "cells": [
  {
   "cell_type": "code",
   "execution_count": 92,
   "metadata": {},
   "outputs": [],
   "source": [
    "a = int(input(\"Please choose one number.\"))"
   ]
  },
  {
   "cell_type": "code",
   "execution_count": 93,
   "metadata": {},
   "outputs": [],
   "source": [
    "b = int(input(\"Please choose another number.\"))"
   ]
  },
  {
   "cell_type": "code",
   "execution_count": 94,
   "metadata": {},
   "outputs": [
    {
     "output_type": "stream",
     "name": "stdout",
     "text": [
      "Would you like to either add, subtract, divide or multiply these numbers?\n"
     ]
    }
   ],
   "source": [
    "print(\"Would you like to either add, subtract, divide or multiply these numbers?\")"
   ]
  },
  {
   "cell_type": "code",
   "execution_count": 95,
   "metadata": {},
   "outputs": [],
   "source": [
    "user_input = input(\"Enter A for addition, B for subtraction, C for division and D for multiplication\")"
   ]
  },
  {
   "cell_type": "code",
   "execution_count": 96,
   "metadata": {},
   "outputs": [
    {
     "output_type": "stream",
     "name": "stdout",
     "text": [
      "110\n"
     ]
    }
   ],
   "source": [
    "if user_input == \"A\":\n",
    "    print(a+b)\n",
    "elif user_input == \"B\":\n",
    "    print(a-b)\n",
    "elif user_input == \"C\":\n",
    "    print(a/b)\n",
    "else:\n",
    "    print(a*b)"
   ]
  }
 ]
}