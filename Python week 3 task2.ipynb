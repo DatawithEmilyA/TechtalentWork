{
 "metadata": {
  "language_info": {
   "codemirror_mode": {
    "name": "ipython",
    "version": 3
   },
   "file_extension": ".py",
   "mimetype": "text/x-python",
   "name": "python",
   "nbconvert_exporter": "python",
   "pygments_lexer": "ipython3",
   "version": "3.8.5-final"
  },
  "orig_nbformat": 2,
  "kernelspec": {
   "name": "python3",
   "display_name": "Python 3",
   "language": "python"
  }
 },
 "nbformat": 4,
 "nbformat_minor": 2,
 "cells": [
  {
   "cell_type": "code",
   "execution_count": 168,
   "metadata": {},
   "outputs": [],
   "source": [
    "def mark_grade(mark):\n",
    "\n",
    "    if mark_grade==(90):\n",
    "        print(\"A*\")\n",
    "    elif mark_grade==(80):\n",
    "        print(\"A\")\n",
    "    elif mark_grade==(70):\n",
    "        print(\"B\")\n",
    "    elif mark_grade==(60):\n",
    "        print(\"C\")\n",
    "    else:\n",
    "         if mark_grade==(50):\n",
    "                print(\"Fail\")\n",
    "\n",
    "    return mark_grade"
   ]
  },
  {
   "cell_type": "code",
   "execution_count": 169,
   "metadata": {},
   "outputs": [
    {
     "output_type": "stream",
     "name": "stdout",
     "text": [
      "your grade is<function mark_grade at 0x7fe237666940>\n"
     ]
    }
   ],
   "source": [
    "mark =input(\"What was your mark: \")\n",
    "\n",
    "grade = mark_grade (int(mark))\n",
    "\n",
    "print(\"your grade is\" + str(grade))"
   ]
  }
 ]
}