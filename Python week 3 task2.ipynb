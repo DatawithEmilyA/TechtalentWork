{
 "metadata": {
  "language_info": {
   "codemirror_mode": {
    "name": "ipython",
    "version": 3
   },
   "file_extension": ".py",
   "mimetype": "text/x-python",
   "name": "python",
   "nbconvert_exporter": "python",
   "pygments_lexer": "ipython3",
   "version": "3.8.5-final"
  },
  "orig_nbformat": 2,
  "kernelspec": {
   "name": "python3",
   "display_name": "Python 3",
   "language": "python"
  }
 },
 "nbformat": 4,
 "nbformat_minor": 2,
 "cells": [
  {
   "cell_type": "code",
   "execution_count": 5,
   "metadata": {},
   "outputs": [],
   "source": [
    "def mark_grade(mark):\n",
    "\n",
    "    if mark>= 90:\n",
    "        return \"A*\"\n",
    "    elif mark>=80:\n",
    "        return \"A\"\n",
    "    elif mark>=70:\n",
    "        return \"B\"\n",
    "    elif mark>=60:\n",
    "        return \"C\"\n",
    "    else:\n",
    "        return \"F\"\n"
   ]
  },
  {
   "cell_type": "code",
   "execution_count": 6,
   "metadata": {},
   "outputs": [
    {
     "output_type": "stream",
     "name": "stdout",
     "text": [
      "your grade isC\n"
     ]
    }
   ],
   "source": [
    "target_grade = int(input(\"What is your target grade?\"))\n",
    "mark =input(\"What was your mark: \")\n",
    "\n",
    "\n",
    "grade = mark_grade (int(mark))\n",
    "\n",
    "print(\"your grade is\" +  grade)"
   ]
  },
  {
   "cell_type": "code",
   "execution_count": null,
   "metadata": {},
   "outputs": [],
   "source": []
  }
 ]
}